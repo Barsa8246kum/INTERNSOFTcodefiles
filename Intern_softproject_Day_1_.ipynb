{
  "nbformat": 4,
  "nbformat_minor": 0,
  "metadata": {
    "colab": {
      "provenance": []
    },
    "kernelspec": {
      "name": "python3",
      "display_name": "Python 3"
    },
    "language_info": {
      "name": "python"
    }
  },
  "cells": [
    {
      "cell_type": "markdown",
      "source": [
        "**Integers**\n",
        "Integer literals are any numbers created by any number without a decimal or comlex component."
      ],
      "metadata": {
        "id": "b4OVCp6Gjy4N"
      }
    },
    {
      "cell_type": "code",
      "source": [
        "#Integer\n",
        "x=1\n",
        "type(x)"
      ],
      "metadata": {
        "colab": {
          "base_uri": "https://localhost:8080/"
        },
        "id": "dgnPlNsvkZ4J",
        "outputId": "6ff715e6-b67a-4651-dcb6-e34ac085fa53"
      },
      "execution_count": 2,
      "outputs": [
        {
          "output_type": "execute_result",
          "data": {
            "text/plain": [
              "int"
            ]
          },
          "metadata": {},
          "execution_count": 2
        }
      ]
    },
    {
      "cell_type": "markdown",
      "source": [
        "**Float**\n",
        "float literals can be created by adding a decimal component to a number."
      ],
      "metadata": {
        "id": "doDb4shEkmY-"
      }
    },
    {
      "cell_type": "code",
      "source": [
        "#Float\n",
        "a=2.3\n",
        "type(a)"
      ],
      "metadata": {
        "colab": {
          "base_uri": "https://localhost:8080/"
        },
        "id": "wGeBAI9_lB1-",
        "outputId": "16a85823-75f5-4cd1-eccf-334a9544c2e6"
      },
      "execution_count": 3,
      "outputs": [
        {
          "output_type": "execute_result",
          "data": {
            "text/plain": [
              "float"
            ]
          },
          "metadata": {},
          "execution_count": 3
        }
      ]
    },
    {
      "cell_type": "markdown",
      "source": [
        "**Boolean**\n",
        "It can be defined by typing True/False without a quotes."
      ],
      "metadata": {
        "id": "xi0zvJlhlCvY"
      }
    },
    {
      "cell_type": "code",
      "source": [
        "#Boolean\n",
        "a=True\n",
        "b=False\n",
        "type(a)"
      ],
      "metadata": {
        "colab": {
          "base_uri": "https://localhost:8080/"
        },
        "id": "5HlJ2uEelYg7",
        "outputId": "0557fbc2-7b57-4e80-c5cf-72a8eddd73a9"
      },
      "execution_count": 4,
      "outputs": [
        {
          "output_type": "execute_result",
          "data": {
            "text/plain": [
              "bool"
            ]
          },
          "metadata": {},
          "execution_count": 4
        }
      ]
    },
    {
      "cell_type": "markdown",
      "source": [
        "**String**\n",
        "String literals can be with any single quotes('),double quotes(\"), or triple quotes('''or\"\"\")."
      ],
      "metadata": {
        "id": "_EHjYfVWlZQI"
      }
    },
    {
      "cell_type": "code",
      "source": [
        "#string\n",
        "a='Barsa'\n",
        "type(a)"
      ],
      "metadata": {
        "colab": {
          "base_uri": "https://localhost:8080/"
        },
        "id": "aI60FBB0mDHE",
        "outputId": "130af0bb-b107-42a8-d6da-b119122699b9"
      },
      "execution_count": 5,
      "outputs": [
        {
          "output_type": "execute_result",
          "data": {
            "text/plain": [
              "str"
            ]
          },
          "metadata": {},
          "execution_count": 5
        }
      ]
    },
    {
      "cell_type": "code",
      "source": [],
      "metadata": {
        "id": "nRrbh8tbmbKI"
      },
      "execution_count": null,
      "outputs": []
    }
  ]
}