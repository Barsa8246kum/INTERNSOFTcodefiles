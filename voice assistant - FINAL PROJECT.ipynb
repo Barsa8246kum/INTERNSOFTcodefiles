{
 "cells": [
  {
   "cell_type": "code",
   "execution_count": 11,
   "id": "38d84814",
   "metadata": {},
   "outputs": [],
   "source": [
    "import os\n",
    "import time\n",
    "import subprocess\n",
    "import json"
   ]
  },
  {
   "cell_type": "code",
   "execution_count": 12,
   "id": "92b3b076",
   "metadata": {},
   "outputs": [],
   "source": [
    "import wolframalpha\n",
    "import requests\n",
    "import webbrowser\n",
    "import wikipedia\n",
    "import datetime"
   ]
  },
  {
   "cell_type": "code",
   "execution_count": 13,
   "id": "909b96d5",
   "metadata": {},
   "outputs": [],
   "source": [
    "import speech_recognition as sr\n",
    "import pyttsx3"
   ]
  },
  {
   "cell_type": "code",
   "execution_count": 14,
   "id": "780c5eed",
   "metadata": {},
   "outputs": [
    {
     "name": "stdout",
     "output_type": "stream",
     "text": [
      "LOADING YOUR PERSONAL A.I ASSISTANT\n"
     ]
    }
   ],
   "source": [
    "print(\"LOADING YOUR PERSONAL A.I ASSISTANT\")"
   ]
  },
  {
   "cell_type": "code",
   "execution_count": 15,
   "id": "dfaa3913",
   "metadata": {},
   "outputs": [],
   "source": [
    "engine = pyttsx3.init('sapi5')\n",
    "voices = engine.getProperty('voices')\n",
    "engine.setProperty(\"voice\",'voices[0].id')"
   ]
  },
  {
   "cell_type": "code",
   "execution_count": 16,
   "id": "ee6b55c6",
   "metadata": {},
   "outputs": [],
   "source": [
    "def speak(text):\n",
    "    engine.say(text)\n",
    "    engine.runAndWait()"
   ]
  },
  {
   "cell_type": "code",
   "execution_count": 17,
   "id": "e8115d8a",
   "metadata": {},
   "outputs": [],
   "source": [
    "def wishMe():\n",
    "    hour = datetime.datetime.now().hour\n",
    "    if hour >= 0 and hour < 12:\n",
    "        speak(\"Hello!, Good Morning Miss Barsa kumari\")\n",
    "        print(\"Hello!, Good Morning Miss Barsa kumari\")\n",
    "    elif hour >= 12 and hour < 18:\n",
    "        speak(\"Hello!, Good Afternoon Miss Barsa kumari\")\n",
    "        print(\"Hello!, Good Afternoon Miss Barsa kumari\")\n",
    "    else:\n",
    "        speak(\"It's already night time, better go to sleep\")\n",
    "        print(\"It's already night time, better go to sleep\")"
   ]
  },
  {
   "cell_type": "code",
   "execution_count": 18,
   "id": "9fb0a46e",
   "metadata": {},
   "outputs": [],
   "source": [
    "def takeCommand():\n",
    "    r = sr.Recognizer()\n",
    "    with sr.Microphone() as source:\n",
    "        print(\"I am listening\")\n",
    "        audio = r.listen(source)\n",
    "        try:\n",
    "            statement = r.recognize_google(audio,language = 'en-in')\n",
    "            return statement\n",
    "        except Exception as e:\n",
    "            speak(\"Pardon me, please say that again\")\n",
    "            return \"None\""
   ]
  },
  {
   "cell_type": "code",
   "execution_count": 19,
   "id": "d9da2024",
   "metadata": {},
   "outputs": [
    {
     "name": "stdout",
     "output_type": "stream",
     "text": [
      "Hello!, Good Afternoon Miss Barsa kumari\n"
     ]
    }
   ],
   "source": [
    "speak(\"Loading your personal assistant JESSICA\")\n",
    "wishMe()"
   ]
  },
  {
   "cell_type": "code",
   "execution_count": 20,
   "id": "deba0abd",
   "metadata": {},
   "outputs": [
    {
     "name": "stdout",
     "output_type": "stream",
     "text": [
      "I am listening\n"
     ]
    },
    {
     "ename": "TypeError",
     "evalue": "argument of type 'builtin_function_or_method' is not iterable",
     "output_type": "error",
     "traceback": [
      "\u001b[1;31m---------------------------------------------------------------------------\u001b[0m",
      "\u001b[1;31mTypeError\u001b[0m                                 Traceback (most recent call last)",
      "Cell \u001b[1;32mIn[20], line 7\u001b[0m\n\u001b[0;32m      5\u001b[0m \u001b[38;5;28;01mif\u001b[39;00m statement \u001b[38;5;241m==\u001b[39m \u001b[38;5;241m0\u001b[39m:\n\u001b[0;32m      6\u001b[0m     \u001b[38;5;28;01mcontinue\u001b[39;00m\n\u001b[1;32m----> 7\u001b[0m \u001b[38;5;28;01mif\u001b[39;00m \u001b[38;5;124;43m\"\u001b[39;49m\u001b[38;5;124;43mGood Bye\u001b[39;49m\u001b[38;5;124;43m\"\u001b[39;49m\u001b[43m \u001b[49m\u001b[38;5;129;43;01min\u001b[39;49;00m\u001b[43m \u001b[49m\u001b[43mstatement\u001b[49m \u001b[38;5;129;01mor\u001b[39;00m \u001b[38;5;124m\"\u001b[39m\u001b[38;5;124mok Bye\u001b[39m\u001b[38;5;124m\"\u001b[39m \u001b[38;5;129;01min\u001b[39;00m statement \u001b[38;5;129;01mor\u001b[39;00m \u001b[38;5;124m\"\u001b[39m\u001b[38;5;124mstop\u001b[39m\u001b[38;5;124m\"\u001b[39m \u001b[38;5;129;01min\u001b[39;00m statement:\n\u001b[0;32m      8\u001b[0m     speak(\u001b[38;5;124m\"\u001b[39m\u001b[38;5;124mYour Personal A.I is Signinig Off\u001b[39m\u001b[38;5;124m\"\u001b[39m)\n\u001b[0;32m      9\u001b[0m     \u001b[38;5;28mprint\u001b[39m(\u001b[38;5;124m\"\u001b[39m\u001b[38;5;124mYour Personal A.I is Signinig Off\u001b[39m\u001b[38;5;124m\"\u001b[39m)\n",
      "\u001b[1;31mTypeError\u001b[0m: argument of type 'builtin_function_or_method' is not iterable"
     ]
    }
   ],
   "source": [
    "if __name__ == '__main__':\n",
    "    while True:\n",
    "            speak(\"How can I help You?\")\n",
    "            statement = takeCommand().lower\n",
    "            if statement == 0:\n",
    "                continue\n",
    "            if \"Good Bye\" in statement or \"ok Bye\" in statement or \"stop\" in statement:\n",
    "                speak(\"Your Personal A.I is Signinig Off\")\n",
    "                print(\"Your Personal A.I is Signinig Off\")\n",
    "                break\n",
    "            if 'wikipedia' in statement:\n",
    "                speak(\"Searching Wikipedia.....\")\n",
    "                statement = statement.replace(\"wikipedia\",\"\")\n",
    "                results = wikipedia.summary(statement , sentences = 3)\n",
    "                speak(\"According to Wikipedia....\")\n",
    "                print(results)\n",
    "                speak(results)\n",
    "            elif \"open youtube\" in statement:\n",
    "                webbrowser.open_new_tab(\"https://www.youtube.com\")\n",
    "                speak(\"youtube is open for you\")\n",
    "                print(\"youtube is open for you\")\n",
    "                time.sleep(5)\n",
    "            \n",
    "            elif \"open google\" in statement:\n",
    "                webbrowser.open_new_tab(\"https://www.google.com\")\n",
    "                speak(\"google search is open for you\")\n",
    "                print(\"google search is open for you\")\n",
    "                time.sleep(5)\n",
    "            elif \"open gmail\" in statement:\n",
    "                webbrowser.open_new_tab(\"gmail.com\")\n",
    "                speak(\"your gmail is open\")\n",
    "                print(\"your gmail is open\")\n",
    "                time.sleep(5)\n",
    "            elif \"weather\" in satement:\n",
    "                api_key = \"8ef61edcf1c576d65d836254e11ea420\"\n",
    "                base_url = \"https://api.openweathermap.org/data/2.5/weather?”\"\n",
    "                speak(\"What is the city name\")\n",
    "                city_name = takeCommand()\n",
    "                complete_url = base_url + \"appid=\" +api_key +\"&q=\" +city_name\n",
    "                response = request.get(complete_url)\n",
    "                x = response.json()\n",
    "                if x[\"cod\"] != \"404\":\n",
    "                    y = x[\"main\"]\n",
    "                    current_temperature = y[\"temp\"]\n",
    "                    current_humidity = y[\"humidity\"]\n",
    "                    z = x[\"weather\"]\n",
    "                    weather_description = z[0][\"description\"]\n",
    "                    speak(\"The temperature in kelvin is\" + str(current_temperature) + \"\\n the humidity in perecentage is\" + str(current_humidity) + \"\\n weather desription is\" + str(weather_description))\n",
    "                    print(\"The temperature in kelvin is\" + str(current_temperature) + \"\\n the humidity in perecentage is\" + str(current_humidity) + \"\\n weather desription is\" + str(weather_description))\n",
    "                else:\n",
    "                    speak(\"city not found\")\n",
    "                    print(\"city not found\")\n",
    "            elif \"time\" in statement:\n",
    "                strTime = datetime.datetime.now().strTime(\"%H : %M : %S\")\n",
    "                speak(f\"the time is {strTime}\")\n",
    "            elif \"Who are you?\" in statement or \"what can you do?\" in statement:\n",
    "                speak(\"I am JESSICA version 1 point 0 your personal assistant.I am programmmed to minor tasks like 'open YouTube', Gmail, Google chrome and stack overflow. Predict current time, take a photo, search Wikipedia to abstract required data, predict weather in different cities, get top headline news from Times of India and can answer computational and geographical questions too.\")\n",
    "                print(\"I am JESSICA version 1 point 0 your personal assistant.I am programmmed to minor tasks like 'open YouTube', Gmail, Google chrome and stack overflow. Predict current time, take a photo, search Wikipedia to abstract required data, predict weather in different cities, get top headline news from Times of India and can answer computational and geographical questions too.\")\n",
    "            elif \"who made you?\" in statement or \"who built you ?\" in satement or \"who created you ?\" in satement:\n",
    "                speak(\"I was built by Barsa Kumari\")\n",
    "                print(\"I was built by Barsa Kumari\")\n",
    "            elif \"open stack overflow\" in statement:\n",
    "                webbrowser.open_new_tab(\"https://stackoverflow.com/login\")\n",
    "                time.sleep(5)\n",
    "            elif \"news\" in statement:\n",
    "                news = webbrowser.open_new_tab(\"https://timesofindia.indiatime.com/home/headlines\")\n",
    "                speak(\"here are some headlines from times of inda - happy reading\")\n",
    "                time.sleep(7)\n",
    "            elif \"search\" in statement:\n",
    "                statement = statement.replace(\"search\" , \"\")\n",
    "                webbrowser.open_new_tab(\"statement\")\n",
    "                time.sleep(5)\n",
    "            elif \"ask\" in statement:\n",
    "                speak(\"I can answer to computational and graphical questions too just try me!! what do you want to know\")\n",
    "                question = takeCommand()\n",
    "                app_id = \"R2K75H-7ELALHR35X\"\n",
    "                client = wolframalpha.client(\"R2K75H-7ELALHR35X\")\n",
    "                res = client.query(question)\n",
    "                answer = next(res.results).text\n",
    "                speak(answer)\n",
    "                print(answer)\n",
    "            elif \"log off\" in statement or \"sign out\" in statement or \"shut down\" in statement:\n",
    "                speak(\"ok,Your PC will shut down in 10 seconds , make sure you have saved and exit from all applications\")\n",
    "                subprocess.call(['shut down',\"/1\"])\n",
    "                time.sleep(3)"
   ]
  },
  {
   "cell_type": "code",
   "execution_count": null,
   "id": "3275b040",
   "metadata": {},
   "outputs": [],
   "source": []
  },
  {
   "cell_type": "code",
   "execution_count": null,
   "id": "f0e33a78",
   "metadata": {},
   "outputs": [],
   "source": []
  }
 ],
 "metadata": {
  "kernelspec": {
   "display_name": "Python 3 (ipykernel)",
   "language": "python",
   "name": "python3"
  },
  "language_info": {
   "codemirror_mode": {
    "name": "ipython",
    "version": 3
   },
   "file_extension": ".py",
   "mimetype": "text/x-python",
   "name": "python",
   "nbconvert_exporter": "python",
   "pygments_lexer": "ipython3",
   "version": "3.10.9"
  }
 },
 "nbformat": 4,
 "nbformat_minor": 5
}
